{
 "cells": [
  {
   "cell_type": "code",
   "execution_count": 1,
   "id": "9acf49f2",
   "metadata": {
    "_cell_guid": "b1076dfc-b9ad-4769-8c92-a6c4dae69d19",
    "_uuid": "8f2839f25d086af736a60e9eeb907d3b93b6e0e5",
    "execution": {
     "iopub.execute_input": "2022-04-04T09:18:22.993068Z",
     "iopub.status.busy": "2022-04-04T09:18:22.991589Z",
     "iopub.status.idle": "2022-04-04T09:18:23.005014Z",
     "shell.execute_reply": "2022-04-04T09:18:23.005551Z"
    },
    "papermill": {
     "duration": 0.024302,
     "end_time": "2022-04-04T09:18:23.005873",
     "exception": false,
     "start_time": "2022-04-04T09:18:22.981571",
     "status": "completed"
    },
    "tags": []
   },
   "outputs": [],
   "source": [
    "# This Python 3 environment comes with many helpful analytics libraries installed\n",
    "# It is defined by the kaggle/python Docker image: https://github.com/kaggle/docker-python\n",
    "# For example, here's several helpful packages to load\n",
    "\n",
    "import numpy as np # linear algebra\n",
    "import pandas as pd # data processing, CSV file I/O (e.g. pd.read_csv)\n",
    "\n",
    "# Input data files are available in the read-only \"../input/\" directory\n",
    "# For example, running this (by clicking run or pressing Shift+Enter) will list all files under the input directory\n",
    "\n",
    "import os\n",
    "for dirname, _, filenames in os.walk('/kaggle/input'):\n",
    "    for filename in filenames:\n",
    "        print(os.path.join(dirname, filename))\n",
    "\n",
    "# You can write up to 20GB to the current directory (/kaggle/working/) that gets preserved as output when you create a version using \"Save & Run All\" \n",
    "# You can also write temporary files to /kaggle/temp/, but they won't be saved outside of the current session"
   ]
  },
  {
   "cell_type": "markdown",
   "id": "d4d4eabc",
   "metadata": {
    "papermill": {
     "duration": 0.005595,
     "end_time": "2022-04-04T09:18:23.018937",
     "exception": false,
     "start_time": "2022-04-04T09:18:23.013342",
     "status": "completed"
    },
    "tags": []
   },
   "source": [
    "# **SPEECH EMOTION RECOGNITION**\n",
    "\n",
    "\n",
    "**TABLE OF CONTENTS**\n",
    "* INTRODUCTION\n",
    "* EXPLORATORY DATA ANALYSIS (EDA)\n",
    "* DATA AUGMENTATION\n",
    "* FEATURE EXTRACTION\n",
    "* MODEL"
   ]
  },
  {
   "cell_type": "markdown",
   "id": "cfa4f895",
   "metadata": {
    "papermill": {
     "duration": 0.005259,
     "end_time": "2022-04-04T09:18:23.029893",
     "exception": false,
     "start_time": "2022-04-04T09:18:23.024634",
     "status": "completed"
    },
    "tags": []
   },
   "source": [
    "# INTRODUCTION\n",
    "\n",
    "**PROBLEM STATEMENT**\n",
    "\n",
    "The purpose is to recognize the emotion and affective state of the speaker from his/her speech signal. \n",
    "\n",
    "**DATA SOURCE USED**\n",
    "\n",
    "We have used the RAVDESS dataset in this project.It is one of the more common dataset used for this excercise by others. It's well liked because of its quality of speakers, recording and it has 24 actors of different genders.\n",
    "Here's the filename identifiers as per the official RAVDESS website:\n",
    "\n",
    "* Modality (01 = full-AV, 02 = video-only, 03 = audio-only).\n",
    "* Vocal channel (01 = speech, 02 = song).\n",
    "* Emotion (01 = neutral, 02 = calm, 03 = happy, 04 = sad, 05 = angry, 06 = fearful, 07 = disgust, 08 = surprised).\n",
    "* Emotional intensity (01 = normal, 02 = strong). NOTE: There is no strong intensity for the 'neutral' emotion.\n",
    "* Statement (01 = \"Kids are talking by the door\", 02 = \"Dogs are sitting by the door\").\n",
    "* Repetition (01 = 1st repetition, 02 = 2nd repetition).\n",
    "* Actor (01 to 24. Odd numbered actors are male, even numbered actors are female).\n",
    "\n",
    "Here's an example of an audio filename. 02-01-06-01-02-01-12.mp4"
   ]
  },
  {
   "cell_type": "markdown",
   "id": "770bc05d",
   "metadata": {
    "papermill": {
     "duration": 0.005155,
     "end_time": "2022-04-04T09:18:23.040532",
     "exception": false,
     "start_time": "2022-04-04T09:18:23.035377",
     "status": "completed"
    },
    "tags": []
   },
   "source": [
    "# EXPLORATORY DATA ANALYSIS\n",
    "\n",
    "The key features of the audio data are namely, MFCC (Mel Frequency Cepstral Coefficients) and Mel Spectrogram \n",
    "\n",
    "* MFCC (Mel Frequency Cepstral Coefficients)- \n",
    "MFCC is important feature extraction when using speech data,Mel scale is a scale that relates the perceived frequency of a tone to the real measured frequency. It scales the frequency so that you can fit greater carefully what the human ear can hear \n",
    "\n",
    "\n",
    "\n",
    "* Mel Spectrogram- \n",
    "A Fast Fourier Transform is computed on overlapping windowed segments of the signal, and what is the spectrogram , Spectrogram is visual way of representation of signal strength and also use for display the frequency sound waves.\n",
    "\n",
    "\n",
    "\n",
    "For the EDA we have used MFCC and Mel Spectogram"
   ]
  },
  {
   "cell_type": "markdown",
   "id": "dc01d9ae",
   "metadata": {
    "papermill": {
     "duration": 0.005233,
     "end_time": "2022-04-04T09:18:23.051224",
     "exception": false,
     "start_time": "2022-04-04T09:18:23.045991",
     "status": "completed"
    },
    "tags": []
   },
   "source": []
  }
 ],
 "metadata": {
  "kernelspec": {
   "display_name": "Python 3",
   "language": "python",
   "name": "python3"
  },
  "language_info": {
   "codemirror_mode": {
    "name": "ipython",
    "version": 3
   },
   "file_extension": ".py",
   "mimetype": "text/x-python",
   "name": "python",
   "nbconvert_exporter": "python",
   "pygments_lexer": "ipython3",
   "version": "3.7.12"
  },
  "papermill": {
   "default_parameters": {},
   "duration": 11.452007,
   "end_time": "2022-04-04T09:18:23.867658",
   "environment_variables": {},
   "exception": null,
   "input_path": "__notebook__.ipynb",
   "output_path": "__notebook__.ipynb",
   "parameters": {},
   "start_time": "2022-04-04T09:18:12.415651",
   "version": "2.3.3"
  }
 },
 "nbformat": 4,
 "nbformat_minor": 5
}
